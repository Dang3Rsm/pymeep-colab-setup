{
 "cells": [
  {
   "cell_type": "code",
   "execution_count": null,
   "metadata": {},
   "outputs": [],
   "source": [
    "!pip install -q condacolab\n",
    "import condacolab\n",
    "condacolab.install()\n",
    "!conda install -c conda-forge pymeep -y\n",
    "condacolab.check()\n",
    "import sys\n",
    "sys.path.append('/content/anaconda/envs/mp/lib/python3.10/site-packages/')\n",
    "import meep as mp\n",
    "print(mp.__version__)"
   ]
  }
 ],
 "metadata": {
  "language_info": {
   "name": "python"
  }
 },
 "nbformat": 4,
 "nbformat_minor": 2
}
